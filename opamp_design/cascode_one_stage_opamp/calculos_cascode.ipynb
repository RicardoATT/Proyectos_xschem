{
 "cells": [
  {
   "cell_type": "markdown",
   "metadata": {},
   "source": [
    "# Calculos para el diseño de un  amplificador operacional cascodo de una etapa"
   ]
  },
  {
   "cell_type": "markdown",
   "metadata": {},
   "source": [
    "### Importación de librerias"
   ]
  },
  {
   "cell_type": "code",
   "execution_count": 1,
   "metadata": {},
   "outputs": [],
   "source": [
    "from math import sqrt\n",
    "from math import pi\n",
    "import numpy as np "
   ]
  },
  {
   "cell_type": "markdown",
   "metadata": {},
   "source": [
    "### Valores conocidos"
   ]
  },
  {
   "cell_type": "code",
   "execution_count": 3,
   "metadata": {},
   "outputs": [],
   "source": [
    "# NMOS\n",
    "Id_n=448.869e-6\n",
    "Vth_n=0.769432\n",
    "Vgs_n=1.79987\n",
    "Vds_n=0.89974\n",
    "vdsat_n=0.362147\n",
    "# PMOS\n",
    "Id_p=12e-6\n",
    "Vth_p=0.624345\n",
    "Vgs_p=0.9\n",
    "Vds_p=0.9\n",
    "vdsat_p=0.0444931\n",
    "# Parámetros\n",
    "W=1e-6\n",
    "L=1.5e-7\n",
    "Cl=pi*2*10e-12\n",
    "Av=100\n",
    "VDD=1.8\n",
    "GB=1e6\n",
    "SR=5\n",
    "ICMR=1.3"
   ]
  },
  {
   "cell_type": "markdown",
   "metadata": {},
   "source": [
    "### Paso 0: Cálculo preliminar de Kn', Kp' y las lambdas"
   ]
  },
  {
   "cell_type": "code",
   "execution_count": 4,
   "metadata": {},
   "outputs": [
    {
     "ename": "TypeError",
     "evalue": "'float' object is not callable",
     "output_type": "error",
     "traceback": [
      "\u001b[0;31m---------------------------------------------------------------------------\u001b[0m",
      "\u001b[0;31mTypeError\u001b[0m                                 Traceback (most recent call last)",
      "Cell \u001b[0;32mIn[4], line 1\u001b[0m\n\u001b[0;32m----> 1\u001b[0m Kn\u001b[38;5;241m=\u001b[39m(\u001b[38;5;241m2\u001b[39m\u001b[38;5;241m*\u001b[39mId_n)\u001b[38;5;241m/\u001b[39m(\u001b[43m(\u001b[49m\u001b[43mW\u001b[49m\u001b[38;5;241;43m/\u001b[39;49m\u001b[43mL\u001b[49m\u001b[43m)\u001b[49m\u001b[43m(\u001b[49m\u001b[43m(\u001b[49m\u001b[43mVgs_n\u001b[49m\u001b[38;5;241;43m-\u001b[39;49m\u001b[43mVth_n\u001b[49m\u001b[43m)\u001b[49m\u001b[38;5;241;43m*\u001b[39;49m\u001b[38;5;241;43m2\u001b[39;49m\u001b[43m)\u001b[49m)\n\u001b[1;32m      2\u001b[0m lambda_n\u001b[38;5;241m=\u001b[39m((Id_n\u001b[38;5;241m/\u001b[39m(Kn\u001b[38;5;241m*\u001b[39m(W\u001b[38;5;241m/\u001b[39m\u001b[38;5;241m2\u001b[39m\u001b[38;5;241m*\u001b[39mL)(Vgs_n\u001b[38;5;241m-\u001b[39mVth_n)\u001b[38;5;241m*\u001b[39m\u001b[38;5;241m2\u001b[39m))\u001b[38;5;241m-\u001b[39m\u001b[38;5;241m1\u001b[39m)\u001b[38;5;241m/\u001b[39mVds_n\n\u001b[1;32m      3\u001b[0m Kp\u001b[38;5;241m=\u001b[39m(\u001b[38;5;241m2\u001b[39m\u001b[38;5;241m*\u001b[39mId_p)\u001b[38;5;241m/\u001b[39m((W\u001b[38;5;241m/\u001b[39mL)((Vgs_p\u001b[38;5;241m-\u001b[39mVth_p)\u001b[38;5;241m*\u001b[39m\u001b[38;5;241m2\u001b[39m))\n",
      "\u001b[0;31mTypeError\u001b[0m: 'float' object is not callable"
     ]
    }
   ],
   "source": [
    "Kn=(2*Id_n)/((W/L)*((Vgs_n-Vth_n)*2))\n",
    "lambda_n=((Id_n/(Kn*(W/2*L)(Vgs_n-Vth_n)*2))-1)/Vds_n\n",
    "Kp=(2*Id_p)/((W/L)((Vgs_p-Vth_p)*2))\n",
    "lambda_p=((Id_p/(Kn*(W/2*L)(Vgs_p-Vth_p)*2))-1)/Vds_p\n",
    "print(\"Kn' = \", Kn)\n",
    "print(\"Kp' = \", Kp)\n",
    "print(\"Lambda(N) = \", lambda_n)\n",
    "print(\"Lambda(P) = \", lambda_p)"
   ]
  },
  {
   "cell_type": "markdown",
   "metadata": {},
   "source": [
    "### Paso 1: Cálculo de I5 y Pdiss"
   ]
  },
  {
   "cell_type": "code",
   "execution_count": null,
   "metadata": {},
   "outputs": [],
   "source": [
    "I5=SR*Cl\n",
    "Pdiss=VDD*I5\n",
    "print(\"I5 = \", I5)\n",
    "print(\"Pdiss = \", Pdiss)"
   ]
  },
  {
   "cell_type": "markdown",
   "metadata": {},
   "source": [
    "### Paso 2: Cálculo de gm1, gm2, W1 y W2"
   ]
  },
  {
   "cell_type": "code",
   "execution_count": null,
   "metadata": {},
   "outputs": [],
   "source": [
    "gm=GB*Cl\n",
    "W1_L1=(gm**2)/(Kn*I5)\n",
    "W1=W1_L1*L\n",
    "print(\"W1 = W2 = \", W1)"
   ]
  },
  {
   "cell_type": "markdown",
   "metadata": {},
   "source": [
    "### Paso 3: Cálculo de W3 y W4"
   ]
  },
  {
   "cell_type": "code",
   "execution_count": null,
   "metadata": {},
   "outputs": [],
   "source": [
    "W3_L3=I5/(Kp*(VDD-ICMR-(abs(Vth_p))+Vth_p)**2)\n",
    "W3=W3_L3*L\n",
    "print(\"W3 = W4 = \", W3)"
   ]
  },
  {
   "cell_type": "markdown",
   "metadata": {},
   "source": [
    "### Paso 4: Cálculo de W5"
   ]
  },
  {
   "cell_type": "code",
   "execution_count": null,
   "metadata": {},
   "outputs": [],
   "source": [
    "Vgs1=sqrt((2*I5)/(Kn*W1_L1))+Vth_n\n",
    "W5_L5=(2*I5)/(Kn*((1-Vgs1)**2))\n",
    "W5=W5_L5*L\n",
    "print(\"W5 = \", W5)"
   ]
  },
  {
   "cell_type": "markdown",
   "metadata": {},
   "source": [
    "### Paso 5: Cálculo de la ganancia"
   ]
  },
  {
   "cell_type": "code",
   "execution_count": null,
   "metadata": {},
   "outputs": [],
   "source": [
    "A0 = (2*gm)/((lambda_n+lambda_p)*I5)\n",
    "print(\"A0 = \", A0)"
   ]
  }
 ],
 "metadata": {
  "kernelspec": {
   "display_name": "Python 3",
   "language": "python",
   "name": "python3"
  },
  "language_info": {
   "codemirror_mode": {
    "name": "ipython",
    "version": 3
   },
   "file_extension": ".py",
   "mimetype": "text/x-python",
   "name": "python",
   "nbconvert_exporter": "python",
   "pygments_lexer": "ipython3",
   "version": "3.10.12"
  }
 },
 "nbformat": 4,
 "nbformat_minor": 2
}
